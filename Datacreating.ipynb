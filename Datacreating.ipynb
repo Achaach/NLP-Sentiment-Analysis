{
 "cells": [
  {
   "cell_type": "code",
   "execution_count": 2,
   "id": "0d11ba70",
   "metadata": {},
   "outputs": [],
   "source": [
    "import ndjson\n",
    "import pandas as pd\n",
    "import numpy as np\n",
    "import seaborn as sns"
   ]
  },
  {
   "cell_type": "code",
   "execution_count": 3,
   "id": "1e43aa8b",
   "metadata": {},
   "outputs": [],
   "source": [
    "with open('Gift_Cards.json') as f:\n",
    "    data = ndjson.load(f)"
   ]
  },
  {
   "cell_type": "code",
   "execution_count": 5,
   "id": "09477fcb",
   "metadata": {},
   "outputs": [],
   "source": [
    "reviews_df = pd.DataFrame(data)"
   ]
  },
  {
   "cell_type": "code",
   "execution_count": 6,
   "id": "3b34c698",
   "metadata": {},
   "outputs": [
    {
     "data": {
      "text/html": [
       "<div>\n",
       "<style scoped>\n",
       "    .dataframe tbody tr th:only-of-type {\n",
       "        vertical-align: middle;\n",
       "    }\n",
       "\n",
       "    .dataframe tbody tr th {\n",
       "        vertical-align: top;\n",
       "    }\n",
       "\n",
       "    .dataframe thead th {\n",
       "        text-align: right;\n",
       "    }\n",
       "</style>\n",
       "<table border=\"1\" class=\"dataframe\">\n",
       "  <thead>\n",
       "    <tr style=\"text-align: right;\">\n",
       "      <th></th>\n",
       "      <th>overall</th>\n",
       "      <th>vote</th>\n",
       "      <th>verified</th>\n",
       "      <th>reviewTime</th>\n",
       "      <th>reviewerID</th>\n",
       "      <th>asin</th>\n",
       "      <th>style</th>\n",
       "      <th>reviewerName</th>\n",
       "      <th>reviewText</th>\n",
       "      <th>summary</th>\n",
       "      <th>unixReviewTime</th>\n",
       "      <th>image</th>\n",
       "    </tr>\n",
       "  </thead>\n",
       "  <tbody>\n",
       "    <tr>\n",
       "      <th>0</th>\n",
       "      <td>1.0</td>\n",
       "      <td>25</td>\n",
       "      <td>False</td>\n",
       "      <td>12 19, 2008</td>\n",
       "      <td>APV13CM0919JD</td>\n",
       "      <td>B001GXRQW0</td>\n",
       "      <td>{'Gift Amount:': ' 50'}</td>\n",
       "      <td>LEH</td>\n",
       "      <td>Amazon,\\nI am shopping for Amazon.com gift car...</td>\n",
       "      <td>Merry Christmas.</td>\n",
       "      <td>1229644800</td>\n",
       "      <td>NaN</td>\n",
       "    </tr>\n",
       "    <tr>\n",
       "      <th>1</th>\n",
       "      <td>5.0</td>\n",
       "      <td>NaN</td>\n",
       "      <td>False</td>\n",
       "      <td>12 17, 2008</td>\n",
       "      <td>A3G8U1G1V082SN</td>\n",
       "      <td>B001GXRQW0</td>\n",
       "      <td>{'Gift Amount:': ' 50'}</td>\n",
       "      <td>Tali</td>\n",
       "      <td>I got this gift card from a friend, and it was...</td>\n",
       "      <td>Gift card with best selection</td>\n",
       "      <td>1229472000</td>\n",
       "      <td>NaN</td>\n",
       "    </tr>\n",
       "    <tr>\n",
       "      <th>2</th>\n",
       "      <td>5.0</td>\n",
       "      <td>4</td>\n",
       "      <td>False</td>\n",
       "      <td>12 17, 2008</td>\n",
       "      <td>A11T2Q0EVTUWP</td>\n",
       "      <td>B001GXRQW0</td>\n",
       "      <td>{'Gift Amount:': ' 50'}</td>\n",
       "      <td>Z</td>\n",
       "      <td>aren't we going to save trees?! :) People who ...</td>\n",
       "      <td>A convenient and great gift for the environmen...</td>\n",
       "      <td>1229472000</td>\n",
       "      <td>NaN</td>\n",
       "    </tr>\n",
       "    <tr>\n",
       "      <th>3</th>\n",
       "      <td>5.0</td>\n",
       "      <td>NaN</td>\n",
       "      <td>False</td>\n",
       "      <td>12 17, 2008</td>\n",
       "      <td>A9YKGBH3SV22C</td>\n",
       "      <td>B001GXRQW0</td>\n",
       "      <td>{'Gift Amount:': ' 25'}</td>\n",
       "      <td>Giotravels</td>\n",
       "      <td>You can always get someone something from Amaz...</td>\n",
       "      <td>Totally make sense</td>\n",
       "      <td>1229472000</td>\n",
       "      <td>NaN</td>\n",
       "    </tr>\n",
       "    <tr>\n",
       "      <th>4</th>\n",
       "      <td>1.0</td>\n",
       "      <td>NaN</td>\n",
       "      <td>True</td>\n",
       "      <td>12 17, 2008</td>\n",
       "      <td>A34WZIHVF3OKOL</td>\n",
       "      <td>B001GXRQW0</td>\n",
       "      <td>NaN</td>\n",
       "      <td>King Dad</td>\n",
       "      <td>Why take 50 dollars of good money with no limi...</td>\n",
       "      <td>Give CASH!</td>\n",
       "      <td>1229472000</td>\n",
       "      <td>NaN</td>\n",
       "    </tr>\n",
       "  </tbody>\n",
       "</table>\n",
       "</div>"
      ],
      "text/plain": [
       "   overall vote  verified   reviewTime      reviewerID        asin  \\\n",
       "0      1.0   25     False  12 19, 2008   APV13CM0919JD  B001GXRQW0   \n",
       "1      5.0  NaN     False  12 17, 2008  A3G8U1G1V082SN  B001GXRQW0   \n",
       "2      5.0    4     False  12 17, 2008   A11T2Q0EVTUWP  B001GXRQW0   \n",
       "3      5.0  NaN     False  12 17, 2008   A9YKGBH3SV22C  B001GXRQW0   \n",
       "4      1.0  NaN      True  12 17, 2008  A34WZIHVF3OKOL  B001GXRQW0   \n",
       "\n",
       "                     style reviewerName  \\\n",
       "0  {'Gift Amount:': ' 50'}          LEH   \n",
       "1  {'Gift Amount:': ' 50'}         Tali   \n",
       "2  {'Gift Amount:': ' 50'}            Z   \n",
       "3  {'Gift Amount:': ' 25'}   Giotravels   \n",
       "4                      NaN     King Dad   \n",
       "\n",
       "                                          reviewText  \\\n",
       "0  Amazon,\\nI am shopping for Amazon.com gift car...   \n",
       "1  I got this gift card from a friend, and it was...   \n",
       "2  aren't we going to save trees?! :) People who ...   \n",
       "3  You can always get someone something from Amaz...   \n",
       "4  Why take 50 dollars of good money with no limi...   \n",
       "\n",
       "                                             summary  unixReviewTime image  \n",
       "0                                   Merry Christmas.      1229644800   NaN  \n",
       "1                      Gift card with best selection      1229472000   NaN  \n",
       "2  A convenient and great gift for the environmen...      1229472000   NaN  \n",
       "3                                 Totally make sense      1229472000   NaN  \n",
       "4                                         Give CASH!      1229472000   NaN  "
      ]
     },
     "execution_count": 6,
     "metadata": {},
     "output_type": "execute_result"
    }
   ],
   "source": [
    "reviews_df.head()"
   ]
  },
  {
   "cell_type": "code",
   "execution_count": 9,
   "id": "41cdb2a7",
   "metadata": {},
   "outputs": [
    {
     "name": "stdout",
     "output_type": "stream",
     "text": [
      "<class 'pandas.core.frame.DataFrame'>\n",
      "RangeIndex: 147194 entries, 0 to 147193\n",
      "Data columns (total 12 columns):\n",
      " #   Column          Non-Null Count   Dtype  \n",
      "---  ------          --------------   -----  \n",
      " 0   overall         147194 non-null  float64\n",
      " 1   vote            6341 non-null    object \n",
      " 2   verified        147194 non-null  bool   \n",
      " 3   reviewTime      147194 non-null  object \n",
      " 4   reviewerID      147194 non-null  object \n",
      " 5   asin            147194 non-null  object \n",
      " 6   style           42375 non-null   object \n",
      " 7   reviewerName    147190 non-null  object \n",
      " 8   reviewText      147035 non-null  object \n",
      " 9   summary         147154 non-null  object \n",
      " 10  unixReviewTime  147194 non-null  int64  \n",
      " 11  image           406 non-null     object \n",
      "dtypes: bool(1), float64(1), int64(1), object(9)\n",
      "memory usage: 12.5+ MB\n"
     ]
    }
   ],
   "source": [
    "reviews_df.info()"
   ]
  },
  {
   "cell_type": "code",
   "execution_count": 11,
   "id": "e4e74de8",
   "metadata": {},
   "outputs": [
    {
     "data": {
      "text/plain": [
       "<AxesSubplot:xlabel='overall', ylabel='count'>"
      ]
     },
     "execution_count": 11,
     "metadata": {},
     "output_type": "execute_result"
    },
    {
     "data": {
      "image/png": "[encoded data removed]",
      "text/plain": [
       "<Figure size 432x288 with 1 Axes>"
      ]
     },
     "metadata": {
      "needs_background": "light"
     },
     "output_type": "display_data"
    }
   ],
   "source": [
    "sns.countplot(data = reviews_df,x='overall')"
   ]
  },
  {
   "cell_type": "code",
   "execution_count": 12,
   "id": "214050aa",
   "metadata": {},
   "outputs": [
    {
     "data": {
      "text/plain": [
       "1548"
      ]
     },
     "execution_count": 12,
     "metadata": {},
     "output_type": "execute_result"
    }
   ],
   "source": [
    "len(reviews_df['asin'].value_counts(dropna=False))"
   ]
  },
  {
   "cell_type": "code",
   "execution_count": 13,
   "id": "a3ef3f66",
   "metadata": {},
   "outputs": [],
   "source": [
    "one_1500 = reviews_df[reviews_df['overall']==1.0].sample(n=1500)\n",
    "two_500 = reviews_df[reviews_df['overall']==2.0].sample(n=500)\n",
    "three_500 = reviews_df[reviews_df['overall']==3.0].sample(n=500)\n",
    "four_500 = reviews_df[reviews_df['overall']==4.0].sample(n=500)\n",
    "five_1500 = reviews_df[reviews_df['overall']==5.0].sample(n=1500)"
   ]
  },
  {
   "cell_type": "code",
   "execution_count": 15,
   "id": "9da4ea9c",
   "metadata": {},
   "outputs": [
    {
     "data": {
      "text/plain": [
       "1.0    1500\n",
       "5.0    1500\n",
       "2.0     500\n",
       "3.0     500\n",
       "4.0     500\n",
       "Name: overall, dtype: int64"
      ]
     },
     "execution_count": 15,
     "metadata": {},
     "output_type": "execute_result"
    }
   ],
   "source": [
    "undersampled_reviews = pd.concat([one_1500, two_500, three_500, four_500, five_1500], axis=0)\n",
    "undersampled_reviews['overall'].value_counts(dropna=False)"
   ]
  },
  {
   "cell_type": "code",
   "execution_count": 16,
   "id": "446157f8",
   "metadata": {},
   "outputs": [
    {
     "data": {
      "text/html": [
       "<div>\n",
       "<style scoped>\n",
       "    .dataframe tbody tr th:only-of-type {\n",
       "        vertical-align: middle;\n",
       "    }\n",
       "\n",
       "    .dataframe tbody tr th {\n",
       "        vertical-align: top;\n",
       "    }\n",
       "\n",
       "    .dataframe thead th {\n",
       "        text-align: right;\n",
       "    }\n",
       "</style>\n",
       "<table border=\"1\" class=\"dataframe\">\n",
       "  <thead>\n",
       "    <tr style=\"text-align: right;\">\n",
       "      <th></th>\n",
       "      <th>overall</th>\n",
       "      <th>vote</th>\n",
       "      <th>verified</th>\n",
       "      <th>reviewTime</th>\n",
       "      <th>reviewerID</th>\n",
       "      <th>asin</th>\n",
       "      <th>style</th>\n",
       "      <th>reviewerName</th>\n",
       "      <th>reviewText</th>\n",
       "      <th>summary</th>\n",
       "      <th>unixReviewTime</th>\n",
       "      <th>image</th>\n",
       "    </tr>\n",
       "  </thead>\n",
       "  <tbody>\n",
       "    <tr>\n",
       "      <th>109968</th>\n",
       "      <td>1.0</td>\n",
       "      <td>4</td>\n",
       "      <td>False</td>\n",
       "      <td>01 21, 2015</td>\n",
       "      <td>AP36MGWFVXAJG</td>\n",
       "      <td>B00MV9FCFQ</td>\n",
       "      <td>NaN</td>\n",
       "      <td>Lois Kilmister</td>\n",
       "      <td>This has failed me 3 times to work very unsati...</td>\n",
       "      <td>Failure</td>\n",
       "      <td>1421798400</td>\n",
       "      <td>NaN</td>\n",
       "    </tr>\n",
       "    <tr>\n",
       "      <th>126958</th>\n",
       "      <td>1.0</td>\n",
       "      <td>NaN</td>\n",
       "      <td>True</td>\n",
       "      <td>01 31, 2016</td>\n",
       "      <td>A92HIQFVSBZXU</td>\n",
       "      <td>B019GIOH7S</td>\n",
       "      <td>NaN</td>\n",
       "      <td>Martin</td>\n",
       "      <td>i basically got robbed by the lady i gave this...</td>\n",
       "      <td>One Star</td>\n",
       "      <td>1454198400</td>\n",
       "      <td>NaN</td>\n",
       "    </tr>\n",
       "    <tr>\n",
       "      <th>111296</th>\n",
       "      <td>1.0</td>\n",
       "      <td>NaN</td>\n",
       "      <td>True</td>\n",
       "      <td>02 2, 2017</td>\n",
       "      <td>A1SFQQE7YYW4LH</td>\n",
       "      <td>B00MV9P8MS</td>\n",
       "      <td>NaN</td>\n",
       "      <td>Amazon Customer</td>\n",
       "      <td>This is terrible. I purchased 50$ before Chris...</td>\n",
       "      <td>Bought 50$ but only showed $25.98. You stole m...</td>\n",
       "      <td>1485993600</td>\n",
       "      <td>NaN</td>\n",
       "    </tr>\n",
       "    <tr>\n",
       "      <th>77644</th>\n",
       "      <td>1.0</td>\n",
       "      <td>NaN</td>\n",
       "      <td>True</td>\n",
       "      <td>01 25, 2018</td>\n",
       "      <td>A2XREU38W4XMI4</td>\n",
       "      <td>B00BXQIGA6</td>\n",
       "      <td>NaN</td>\n",
       "      <td>Betty</td>\n",
       "      <td>This also was a gift card for someone else .</td>\n",
       "      <td>One Star</td>\n",
       "      <td>1516838400</td>\n",
       "      <td>NaN</td>\n",
       "    </tr>\n",
       "    <tr>\n",
       "      <th>114908</th>\n",
       "      <td>1.0</td>\n",
       "      <td>NaN</td>\n",
       "      <td>True</td>\n",
       "      <td>10 25, 2016</td>\n",
       "      <td>A32YOODBMFSDNU</td>\n",
       "      <td>B00PG8502O</td>\n",
       "      <td>NaN</td>\n",
       "      <td>Janet Kay Lee</td>\n",
       "      <td>It was returned to me and not delivered. So no...</td>\n",
       "      <td>Returned</td>\n",
       "      <td>1477353600</td>\n",
       "      <td>NaN</td>\n",
       "    </tr>\n",
       "    <tr>\n",
       "      <th>...</th>\n",
       "      <td>...</td>\n",
       "      <td>...</td>\n",
       "      <td>...</td>\n",
       "      <td>...</td>\n",
       "      <td>...</td>\n",
       "      <td>...</td>\n",
       "      <td>...</td>\n",
       "      <td>...</td>\n",
       "      <td>...</td>\n",
       "      <td>...</td>\n",
       "      <td>...</td>\n",
       "      <td>...</td>\n",
       "    </tr>\n",
       "    <tr>\n",
       "      <th>61497</th>\n",
       "      <td>5.0</td>\n",
       "      <td>NaN</td>\n",
       "      <td>True</td>\n",
       "      <td>07 14, 2016</td>\n",
       "      <td>AJJHKY6UX4HF0</td>\n",
       "      <td>B00A4EK69C</td>\n",
       "      <td>NaN</td>\n",
       "      <td>Judi W. McEvers</td>\n",
       "      <td>Sure was handy!</td>\n",
       "      <td>Five Stars</td>\n",
       "      <td>1468454400</td>\n",
       "      <td>NaN</td>\n",
       "    </tr>\n",
       "    <tr>\n",
       "      <th>44096</th>\n",
       "      <td>5.0</td>\n",
       "      <td>NaN</td>\n",
       "      <td>True</td>\n",
       "      <td>08 17, 2013</td>\n",
       "      <td>A13NIFCOVKY3JG</td>\n",
       "      <td>B0066AZGD4</td>\n",
       "      <td>NaN</td>\n",
       "      <td>girly girl</td>\n",
       "      <td>When I send a gift card to one of my readers, ...</td>\n",
       "      <td>I love the personalized touch</td>\n",
       "      <td>1376697600</td>\n",
       "      <td>NaN</td>\n",
       "    </tr>\n",
       "    <tr>\n",
       "      <th>135614</th>\n",
       "      <td>5.0</td>\n",
       "      <td>NaN</td>\n",
       "      <td>True</td>\n",
       "      <td>09 5, 2016</td>\n",
       "      <td>A68ZXMOB6PSMI</td>\n",
       "      <td>B01G44QKQI</td>\n",
       "      <td>NaN</td>\n",
       "      <td>Anneliese Knop</td>\n",
       "      <td>I purchased this ecard and designed it on my i...</td>\n",
       "      <td>Simple and Satisfying</td>\n",
       "      <td>1473033600</td>\n",
       "      <td>NaN</td>\n",
       "    </tr>\n",
       "    <tr>\n",
       "      <th>106267</th>\n",
       "      <td>5.0</td>\n",
       "      <td>3</td>\n",
       "      <td>True</td>\n",
       "      <td>07 18, 2016</td>\n",
       "      <td>AJROOOQUKPJBT</td>\n",
       "      <td>B00KFLZKFE</td>\n",
       "      <td>NaN</td>\n",
       "      <td>Allison E.</td>\n",
       "      <td>got for my teen daughter. Iove that Amazon had...</td>\n",
       "      <td>got for my teen daughter. Iove that Amazon had...</td>\n",
       "      <td>1468800000</td>\n",
       "      <td>NaN</td>\n",
       "    </tr>\n",
       "    <tr>\n",
       "      <th>37796</th>\n",
       "      <td>5.0</td>\n",
       "      <td>NaN</td>\n",
       "      <td>True</td>\n",
       "      <td>03 27, 2017</td>\n",
       "      <td>A153HMW7DRXA7Q</td>\n",
       "      <td>B005ESMMWW</td>\n",
       "      <td>{'Gift Amount:': ' 50'}</td>\n",
       "      <td>Jackie</td>\n",
       "      <td>gave to grandson for birthday..came in gift bo...</td>\n",
       "      <td>was great purchase I</td>\n",
       "      <td>1490572800</td>\n",
       "      <td>NaN</td>\n",
       "    </tr>\n",
       "  </tbody>\n",
       "</table>\n",
       "<p>4500 rows × 12 columns</p>\n",
       "</div>"
      ],
      "text/plain": [
       "        overall vote  verified   reviewTime      reviewerID        asin  \\\n",
       "109968      1.0    4     False  01 21, 2015   AP36MGWFVXAJG  B00MV9FCFQ   \n",
       "126958      1.0  NaN      True  01 31, 2016   A92HIQFVSBZXU  B019GIOH7S   \n",
       "111296      1.0  NaN      True   02 2, 2017  A1SFQQE7YYW4LH  B00MV9P8MS   \n",
       "77644       1.0  NaN      True  01 25, 2018  A2XREU38W4XMI4  B00BXQIGA6   \n",
       "114908      1.0  NaN      True  10 25, 2016  A32YOODBMFSDNU  B00PG8502O   \n",
       "...         ...  ...       ...          ...             ...         ...   \n",
       "61497       5.0  NaN      True  07 14, 2016   AJJHKY6UX4HF0  B00A4EK69C   \n",
       "44096       5.0  NaN      True  08 17, 2013  A13NIFCOVKY3JG  B0066AZGD4   \n",
       "135614      5.0  NaN      True   09 5, 2016   A68ZXMOB6PSMI  B01G44QKQI   \n",
       "106267      5.0    3      True  07 18, 2016   AJROOOQUKPJBT  B00KFLZKFE   \n",
       "37796       5.0  NaN      True  03 27, 2017  A153HMW7DRXA7Q  B005ESMMWW   \n",
       "\n",
       "                          style     reviewerName  \\\n",
       "109968                      NaN   Lois Kilmister   \n",
       "126958                      NaN           Martin   \n",
       "111296                      NaN  Amazon Customer   \n",
       "77644                       NaN            Betty   \n",
       "114908                      NaN    Janet Kay Lee   \n",
       "...                         ...              ...   \n",
       "61497                       NaN  Judi W. McEvers   \n",
       "44096                       NaN       girly girl   \n",
       "135614                      NaN   Anneliese Knop   \n",
       "106267                      NaN       Allison E.   \n",
       "37796   {'Gift Amount:': ' 50'}           Jackie   \n",
       "\n",
       "                                               reviewText  \\\n",
       "109968  This has failed me 3 times to work very unsati...   \n",
       "126958  i basically got robbed by the lady i gave this...   \n",
       "111296  This is terrible. I purchased 50$ before Chris...   \n",
       "77644        This also was a gift card for someone else .   \n",
       "114908  It was returned to me and not delivered. So no...   \n",
       "...                                                   ...   \n",
       "61497                                     Sure was handy!   \n",
       "44096   When I send a gift card to one of my readers, ...   \n",
       "135614  I purchased this ecard and designed it on my i...   \n",
       "106267  got for my teen daughter. Iove that Amazon had...   \n",
       "37796   gave to grandson for birthday..came in gift bo...   \n",
       "\n",
       "                                                  summary  unixReviewTime  \\\n",
       "109968                                            Failure      1421798400   \n",
       "126958                                           One Star      1454198400   \n",
       "111296  Bought 50$ but only showed $25.98. You stole m...      1485993600   \n",
       "77644                                            One Star      1516838400   \n",
       "114908                                           Returned      1477353600   \n",
       "...                                                   ...             ...   \n",
       "61497                                          Five Stars      1468454400   \n",
       "44096                       I love the personalized touch      1376697600   \n",
       "135614                              Simple and Satisfying      1473033600   \n",
       "106267  got for my teen daughter. Iove that Amazon had...      1468800000   \n",
       "37796                                was great purchase I      1490572800   \n",
       "\n",
       "       image  \n",
       "109968   NaN  \n",
       "126958   NaN  \n",
       "111296   NaN  \n",
       "77644    NaN  \n",
       "114908   NaN  \n",
       "...      ...  \n",
       "61497    NaN  \n",
       "44096    NaN  \n",
       "135614   NaN  \n",
       "106267   NaN  \n",
       "37796    NaN  \n",
       "\n",
       "[4500 rows x 12 columns]"
      ]
     },
     "execution_count": 16,
     "metadata": {},
     "output_type": "execute_result"
    }
   ],
   "source": [
    "undersampled_reviews"
   ]
  },
  {
   "cell_type": "code",
   "execution_count": 17,
   "id": "07bc0ee6",
   "metadata": {},
   "outputs": [
    {
     "data": {
      "text/plain": [
       "<AxesSubplot:xlabel='overall', ylabel='count'>"
      ]
     },
     "execution_count": 17,
     "metadata": {},
     "output_type": "execute_result"
    },
    {
     "data": {
      "image/png": "[encoded data removed]",
      "text/plain": [
       "<Figure size 432x288 with 1 Axes>"
      ]
     },
     "metadata": {
      "needs_background": "light"
     },
     "output_type": "display_data"
    }
   ],
   "source": [
    "sns.countplot(data=undersampled_reviews,x='overall')"
   ]
  },
  {
   "cell_type": "code",
   "execution_count": 18,
   "id": "1de780da",
   "metadata": {},
   "outputs": [],
   "source": [
    "sample_100k_revs = reviews_df.sample(n=10000, random_state=42)"
   ]
  },
  {
   "cell_type": "code",
   "execution_count": 19,
   "id": "0961e02b",
   "metadata": {},
   "outputs": [],
   "source": [
    "undersampled_reviews.to_csv('small_corpus.csv',index=False)"
   ]
  },
  {
   "cell_type": "code",
   "execution_count": 20,
   "id": "9a35ba80",
   "metadata": {},
   "outputs": [],
   "source": [
    "sample_100k_revs.to_csv('big_corpus.csv',index=False)"
   ]
  },
  {
   "cell_type": "code",
   "execution_count": null,
   "id": "b27b0f69",
   "metadata": {},
   "outputs": [],
   "source": []
  }
 ],
 "metadata": {
  "kernelspec": {
   "display_name": "Python 3 (ipykernel)",
   "language": "python",
   "name": "python3"
  },
  "language_info": {
   "codemirror_mode": {
    "name": "ipython",
    "version": 3
   },
   "file_extension": ".py",
   "mimetype": "text/x-python",
   "name": "python",
   "nbconvert_exporter": "python",
   "pygments_lexer": "ipython3",
   "version": "3.9.12"
  }
 },
 "nbformat": 4,
 "nbformat_minor": 5
}
